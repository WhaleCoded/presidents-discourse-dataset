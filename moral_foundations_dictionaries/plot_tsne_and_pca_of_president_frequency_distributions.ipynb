{
 "cells": [
  {
   "cell_type": "code",
   "execution_count": 44,
   "metadata": {},
   "outputs": [],
   "source": [
    "import os\n",
    "import csv\n",
    "\n",
    "import seaborn as sns\n",
    "import matplotlib.pyplot as plt\n",
    "from sklearn.decomposition import PCA\n",
    "from sklearn.manifold import TSNE\n",
    "from IPython.utils import io\n",
    "import matplotlib\n",
    "import pandas as pd\n",
    "import numpy as np"
   ]
  },
  {
   "cell_type": "code",
   "execution_count": 45,
   "metadata": {},
   "outputs": [],
   "source": [
    "COUNTS_DATA_PATH = os.path.join('data', \"moral_foundation_scores\", \"counts\", \"recursive_morality_proportions_bryson.csv\")\n",
    "PLOT_SAVE_PATH = os.path.join('data', \"moral_foundation_scores\", \"plots\")"
   ]
  },
  {
   "cell_type": "code",
   "execution_count": 46,
   "metadata": {},
   "outputs": [],
   "source": [
    "# PRES_TIME = {\n",
    "#     \"GroverCleveland\": 1885,\n",
    "#     \"ChesterA.Arthur\": 1881,\n",
    "#     \"UlyssesS.Grant\": 1869,\n",
    "#     \"RutherfordB.Hayes\": 1877,\n",
    "#     \"JamesA.Garfield\": 1881,\n",
    "#     \"WilliamMcKinley\": 1897,\n",
    "#     \"TheodoreRoosevelt\": 1901,\n",
    "#     \"WilliamHowardTaft\": 1909,\n",
    "#     \"HerbertHoover\": 1929,\n",
    "#     \"WarrenG.Harding\": 1921,\n",
    "#     \"WoodrowWilson\": 1913,\n",
    "#     \"CalvinCoolidge\": 1923,\n",
    "#     \"HarryS.Truman\": 1945,\n",
    "#     \"FranklinD.Roosevelt\": 1933,\n",
    "#     \"JohnF.Kennedy\": 1961,\n",
    "#     \"DwightD.Eisenhower\": 1953,\n",
    "#     \"LyndonB.Johnson\": 1963,\n",
    "#     \"RichardNixon\": 1969,\n",
    "#     \"GeraldR.Ford\": 1974,\n",
    "#     \"GeorgeBush\": 1989,\n",
    "#     \"JimmyCarter\": 1977,\n",
    "#     \"RonaldReagan\": 1981,\n",
    "#     \"WilliamJ.Clinton\": 1993,\n",
    "#     \"GeorgeW.Bush\": 2001,\n",
    "#     \"BarackObama\": 2009,\n",
    "#     \"DonaldJ.Trump\": 2017,\n",
    "# }"
   ]
  },
  {
   "cell_type": "code",
   "execution_count": 47,
   "metadata": {},
   "outputs": [],
   "source": [
    "PRES_TIME = {\n",
    "    \"Benjamin Harrison\": 1888,\n",
    "    \"Grover Cleveland\": 1885,\n",
    "    \"Chester A. Arthur\": 1881,\n",
    "    \"Ulysses S. Grant\": 1869,\n",
    "    \"Rutherford B. Hayes\": 1877,\n",
    "    \"James A. Garfield\": 1881,\n",
    "    \"William McKinley\": 1897,\n",
    "    \"Theodore Roosevelt\": 1901,\n",
    "    \"William Howard Taft\": 1909,\n",
    "    \"Herbert Hoover\": 1929,\n",
    "    \"Warren G. Harding\": 1921,\n",
    "    \"Woodrow Wilson\": 1913,\n",
    "    \"Calvin Coolidge\": 1923,\n",
    "    \"Harry S. Truman\": 1945,\n",
    "    \"Franklin D. Roosevelt\": 1933,\n",
    "    \"John F. Kennedy\": 1961,\n",
    "    \"Dwight D. Eisenhower\": 1953,\n",
    "    \"Lyndon B. Johnson\": 1963,\n",
    "    \"Richard Nixon\": 1969,\n",
    "    \"Gerald R. Ford\": 1974,\n",
    "    \"George Bush\": 1989,\n",
    "    \"Jimmy Carter\": 1977,\n",
    "    \"Ronald Reagan\": 1981,\n",
    "    \"William J. Clinton\": 1993,\n",
    "    \"George W. Bush\": 2001,\n",
    "    \"Barack Obama\": 2009,\n",
    "    \"Donald J. Trump\": 2017,\n",
    "}"
   ]
  },
  {
   "cell_type": "code",
   "execution_count": 48,
   "metadata": {},
   "outputs": [],
   "source": [
    "def load_counts_data():\n",
    "    president_moral_foundation_vector = {}\n",
    "    with open(COUNTS_DATA_PATH, 'r') as f:\n",
    "        reader = csv.reader(f, delimiter=\",\")\n",
    "\n",
    "        header = next(reader)\n",
    "        president_names = header[1:]\n",
    "\n",
    "        for row in reader:\n",
    "            if len(row) == 0:\n",
    "                continue\n",
    "            foundation_scores = row[1:]\n",
    "            for i, pres_name in enumerate(president_names):\n",
    "                if pres_name not in president_moral_foundation_vector:\n",
    "                    president_moral_foundation_vector[pres_name] = []\n",
    "\n",
    "                president_moral_foundation_vector[pres_name].append(float(foundation_scores[i]))\n",
    "\n",
    "        # Convert to numpy array\n",
    "        formated_data = {\"vectors\": [], \"names\": [], \"times\": []}\n",
    "        for pres_name in president_names:\n",
    "            formated_data[\"vectors\"].append(np.array(president_moral_foundation_vector[pres_name]))\n",
    "            formated_data[\"names\"].append(pres_name)\n",
    "            formated_data[\"times\"].append(PRES_TIME[pres_name])\n",
    "\n",
    "    return formated_data"
   ]
  },
  {
   "cell_type": "code",
   "execution_count": 49,
   "metadata": {},
   "outputs": [],
   "source": [
    "def make_and_save_scatter_plot(plot_locations, labels, legend_categories, title, save_path, use_cmap=False, component_vector=None, individual_labels=None):\n",
    "    # convert labels to int\n",
    "    # labels = [legend_categories.index(label) for label in labels]\n",
    "    df = pd.DataFrame(dict(x=plot_locations[:,0], y=plot_locations[:,1], label=labels))\n",
    "\n",
    "    sns.set_style(\"darkgrid\")\n",
    "    fig = plt.figure(figsize=(20, 10))\n",
    "    ax = fig.add_subplot(111)\n",
    "    \n",
    "    # color_list = sns.color_palette(\"viridis\", len(legend_categories))\n",
    "    color_list = sns.color_palette(n_colors=len(legend_categories))\n",
    "    if use_cmap:\n",
    "        color_list = sns.color_palette(\"viridis\", as_cmap=True)\n",
    "    sns.scatterplot(\n",
    "        data = df,\n",
    "        x=\"x\", \n",
    "        y=\"y\", \n",
    "        hue=\"label\", \n",
    "        ax=ax, \n",
    "        s=40,\n",
    "        legend= True, \n",
    "        palette=color_list,\n",
    "    )\n",
    "    ax.set_title(title)\n",
    "\n",
    "    if component_vector is not None:\n",
    "        plt.arrow(\n",
    "            x=0,\n",
    "            y=0,\n",
    "            dx=component_vector[0],\n",
    "            dy=component_vector[1],\n",
    "            color=\"red\",\n",
    "            head_starts_at_zero=True,\n",
    "            head_width=.03, \n",
    "            head_length=.01\n",
    "        )\n",
    "\n",
    "    if individual_labels is not None:\n",
    "        for i, label in enumerate(individual_labels):\n",
    "            ax.annotate(label, (plot_locations[i,0], plot_locations[i,1]))\n",
    "\n",
    "    # legend_handels = []\n",
    "    # for i, category in enumerate(legend_categories):\n",
    "    #     legend_handels.append(matplotlib.patches.Patch(color= color_list[i], label=category))\n",
    "    # ax.legend(handles=legend_handels)\n",
    "\n",
    "    plt.savefig(save_path, dpi=600)\n",
    "    plt.close()\n"
   ]
  },
  {
   "cell_type": "code",
   "execution_count": 50,
   "metadata": {},
   "outputs": [],
   "source": [
    "def create_pca_plot(embeddings, labels, legend_categories, title_subject, save_path, individual_labels=None, img_name=\"pca.jpg\"):\n",
    "    pca = PCA(n_components=2)\n",
    "    pca.fit(embeddings, labels)\n",
    "    plot_locations = pca.transform(embeddings)\n",
    "    plot_save_path = os.path.join(save_path, img_name)\n",
    "\n",
    "    make_and_save_scatter_plot(\n",
    "        plot_locations, \n",
    "        labels, \n",
    "        legend_categories, \n",
    "        f\"PCA of {title_subject}\", \n",
    "        plot_save_path, \n",
    "        use_cmap=True, \n",
    "        individual_labels=individual_labels\n",
    "    )\n",
    "\n",
    "def create_tsne_plot(embeddings, labels, legend_categories, title_subject, save_path, individual_labels=None, img_name=\"tsne.jpg\"):\n",
    "    with io.capture_output() as captured:\n",
    "        perplexity = embeddings.shape[1] - 1\n",
    "        tsne = TSNE(n_components=2, learning_rate='auto', perplexity=perplexity)\n",
    "        plot_locations = tsne.fit_transform(embeddings)\n",
    "        plot_save_path = os.path.join(save_path, img_name)\n",
    "\n",
    "        make_and_save_scatter_plot(plot_locations, \n",
    "            labels, \n",
    "            legend_categories, \n",
    "            f\"TSNE of {title_subject}\", \n",
    "            plot_save_path, \n",
    "            use_cmap=True, \n",
    "            individual_labels=individual_labels\n",
    "        )"
   ]
  },
  {
   "cell_type": "code",
   "execution_count": 56,
   "metadata": {},
   "outputs": [
    {
     "name": "stdout",
     "output_type": "stream",
     "text": [
      "(27, 6)\n",
      "0.008993119926141676 0.0\n",
      "1.0 0.0\n"
     ]
    }
   ],
   "source": [
    "# Load data\n",
    "data = load_counts_data()\n",
    "\n",
    "# Formatted vectors\n",
    "vectors = data[\"vectors\"]\n",
    "vectors = np.vstack(vectors)\n",
    "\n",
    "print(vectors.shape)\n",
    "# Make sure all values are between 0 and 1\n",
    "max_val = np.max(vectors)\n",
    "min_val = np.min(vectors)\n",
    "print(max_val, min_val)\n",
    "vectors = (vectors - min_val) / (max_val - min_val)\n",
    "max_val = np.max(vectors)\n",
    "min_val = np.min(vectors)\n",
    "print(max_val, min_val)"
   ]
  },
  {
   "cell_type": "code",
   "execution_count": 52,
   "metadata": {},
   "outputs": [],
   "source": [
    "# Make PCA plot\n",
    "create_pca_plot(data[\"vectors\"], data[\"times\"], [\"Presidency Start Date\"], \"President Moral Foundations\", PLOT_SAVE_PATH, individual_labels=data[\"names\"], img_name=\"bryson_pca.jpg\")"
   ]
  },
  {
   "cell_type": "code",
   "execution_count": 53,
   "metadata": {},
   "outputs": [],
   "source": [
    "create_tsne_plot(vectors, data[\"times\"], [\"Presidency Start Date\"], \"President Moral Foundations\", PLOT_SAVE_PATH, individual_labels=data[\"names\"], img_name=\"bryson_tsne.jpg\")"
   ]
  }
 ],
 "metadata": {
  "kernelspec": {
   "display_name": "presidents",
   "language": "python",
   "name": "python3"
  },
  "language_info": {
   "codemirror_mode": {
    "name": "ipython",
    "version": 3
   },
   "file_extension": ".py",
   "mimetype": "text/x-python",
   "name": "python",
   "nbconvert_exporter": "python",
   "pygments_lexer": "ipython3",
   "version": "3.10.8"
  },
  "orig_nbformat": 4,
  "vscode": {
   "interpreter": {
    "hash": "77b3f24db4760b8c61a784a6cf48a467feb1ad85c14ee10af44901428476a873"
   }
  }
 },
 "nbformat": 4,
 "nbformat_minor": 2
}
