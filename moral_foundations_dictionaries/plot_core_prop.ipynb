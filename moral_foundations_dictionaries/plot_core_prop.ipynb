{
 "cells": [
  {
   "cell_type": "code",
   "execution_count": 41,
   "metadata": {},
   "outputs": [],
   "source": [
    "import seaborn as sns\n",
    "import matplotlib.pyplot as plt\n",
    "import numpy as np\n",
    "import json\n",
    "import os\n",
    "import pandas as pd"
   ]
  },
  {
   "cell_type": "code",
   "execution_count": 42,
   "metadata": {},
   "outputs": [],
   "source": [
    "DICT_ID = \"no_wiki_continuous_v1\"\n",
    "ORIG_DICT_PATH = os.path.join(os.path.curdir, \"data\", DICT_ID, \"hand_curated\", \"formatted_hand_curated_dict.json\")\n",
    "CORE_TERM_PATH = os.path.join(os.path.curdir, \"data\", DICT_ID, \"hand_curated\", \"core_terms.json\")\n",
    "PLOT_SAVE_PATH = os.path.join(os.path.curdir, \"data\", DICT_ID, \"prop_core_per_dictionary.png\")"
   ]
  },
  {
   "cell_type": "code",
   "execution_count": 43,
   "metadata": {},
   "outputs": [],
   "source": [
    "with open(ORIG_DICT_PATH, \"r\") as f:\n",
    "    orig_dict = json.load(f)\n",
    "\n",
    "with open(CORE_TERM_PATH, \"r\") as f:\n",
    "    core_terms = json.load(f)\n",
    "    core_terms = set(core_terms[\"core\"])"
   ]
  },
  {
   "cell_type": "code",
   "execution_count": 44,
   "metadata": {},
   "outputs": [],
   "source": [
    "# Calculate prop of core terms in each dictionary\n",
    "prop_core = {}\n",
    "\n",
    "for dictionary_name, dictionary_terms in orig_dict.items():\n",
    "    prop_core[dictionary_name] = len(core_terms.intersection(dictionary_terms)) / len(dictionary_terms)"
   ]
  },
  {
   "cell_type": "code",
   "execution_count": 45,
   "metadata": {},
   "outputs": [
    {
     "name": "stdout",
     "output_type": "stream",
     "text": [
      "{'Harm': 0.3163265306122449, 'Institutional_Purity': 0.2671232876712329, 'Authority': 0.30120481927710846, 'Fairness': 0.38095238095238093, 'Ingroup': 0.2644628099173554, 'Sexual_Purity': 0.28205128205128205}\n",
      "             Dictionary  Proportion of Core Terms\n",
      "0                  Harm                  0.316327\n",
      "1  Institutional_Purity                  0.267123\n",
      "2             Authority                  0.301205\n",
      "3              Fairness                  0.380952\n",
      "4               Ingroup                  0.264463\n",
      "5         Sexual_Purity                  0.282051\n"
     ]
    }
   ],
   "source": [
    "print(prop_core)\n",
    "df_formatted = []\n",
    "for dictionary_name, prop in prop_core.items():\n",
    "    df_formatted.append([dictionary_name, prop])\n",
    "df = pd.DataFrame(df_formatted, columns=[\"Dictionary\", \"Proportion of Core Terms\"])\n",
    "print(df)"
   ]
  },
  {
   "cell_type": "code",
   "execution_count": 46,
   "metadata": {},
   "outputs": [],
   "source": [
    "# Make and save a bar plot\n",
    "\n",
    "# Plot the data\n",
    "sns.set_style(\"darkgrid\")\n",
    "fig = plt.figure(figsize=(20, 10))\n",
    "ax = fig.add_subplot(111)\n",
    "\n",
    "sns.set_style(\"darkgrid\")\n",
    "sns.set_context(\"paper\")\n",
    "\n",
    "sns.barplot(hue=\"Dictionary\", x=\"Dictionary\", y=\"Proportion of Core Terms\", data=df, ax=ax,)\n",
    "ax.set_title(\"Proportion of Core Terms in Each Dictionary\")\n",
    "ax.set_xlabel(\"Moral Foundation Dictionary\")\n",
    "ax.set_ylabel(\"Proportion of Core Terms\")\n",
    "\n",
    "plt.savefig(PLOT_SAVE_PATH, dpi=600)\n",
    "# plt.plot()\n",
    "plt.close()\n"
   ]
  }
 ],
 "metadata": {
  "kernelspec": {
   "display_name": "presidents",
   "language": "python",
   "name": "python3"
  },
  "language_info": {
   "codemirror_mode": {
    "name": "ipython",
    "version": 3
   },
   "file_extension": ".py",
   "mimetype": "text/x-python",
   "name": "python",
   "nbconvert_exporter": "python",
   "pygments_lexer": "ipython3",
   "version": "3.10.8"
  },
  "orig_nbformat": 4
 },
 "nbformat": 4,
 "nbformat_minor": 2
}
