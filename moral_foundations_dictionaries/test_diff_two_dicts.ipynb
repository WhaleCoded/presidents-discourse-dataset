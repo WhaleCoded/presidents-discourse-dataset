{
 "cells": [
  {
   "cell_type": "code",
   "execution_count": 4,
   "metadata": {},
   "outputs": [],
   "source": [
    "import os\n",
    "import json\n",
    "import csv"
   ]
  },
  {
   "cell_type": "code",
   "execution_count": 5,
   "metadata": {},
   "outputs": [],
   "source": [
    "DICT_ID_1 = \"control_recursive_dicts\"\n",
    "DICT_ID_2 = \"control_recursive_dicts\"\n",
    "DICT_1_NAME = \"2001-2020_recursive_dict.json\"\n",
    "DICT_2_NAME = \"2001-2020_recursive_dict_after_20_generations.json\"\n",
    "DICT_1 = os.path.join(os.path.curdir, \"data\", DICT_ID_1, \"json_dicts\", DICT_1_NAME)\n",
    "DICT_2 = os.path.join(os.path.curdir, \"data\", DICT_ID_2, \"json_dicts\", DICT_2_NAME)\n",
    "\n",
    "SAVE_PATH = os.path.join(os.path.curdir, \"data\", DICT_ID_2, \"dicts_analysis\")\n",
    "if not os.path.exists(SAVE_PATH):\n",
    "    os.makedirs(SAVE_PATH)\n",
    "\n",
    "SAVE_PATH = os.path.join(SAVE_PATH, f\"diff_{DICT_ID_1}_to_{DICT_ID_2}_for_{DICT_1_NAME}.csv\")"
   ]
  },
  {
   "cell_type": "code",
   "execution_count": 6,
   "metadata": {},
   "outputs": [],
   "source": [
    "dict_1 = {}\n",
    "with open(DICT_1, \"r\") as dict_1_file:\n",
    "    dict_1 = json.load(dict_1_file)\n",
    "\n",
    "dict_2 = {}\n",
    "with open(DICT_2, \"r\") as dict_2_file:\n",
    "    dict_2 = json.load(dict_2_file)"
   ]
  },
  {
   "cell_type": "code",
   "execution_count": 7,
   "metadata": {},
   "outputs": [
    {
     "name": "stdout",
     "output_type": "stream",
     "text": [
      "Foundation: Harm\n",
      "Foundation: Institutional_Purity\n",
      "Foundation: Authority\n",
      "Foundation: Fairness\n",
      "Foundation: Ingroup\n",
      "Foundation: Sexual_Purity\n"
     ]
    }
   ],
   "source": [
    "dict_1_words = {}\n",
    "dict_2_words = {}\n",
    "same_words = {}\n",
    "\n",
    "for moral_foundation in dict_1.keys():\n",
    "    foundation_1 = set(dict_1[moral_foundation])\n",
    "    foundation_2 = set(dict_2[moral_foundation])\n",
    "\n",
    "    if moral_foundation not in dict_1_words:\n",
    "        dict_1_words[moral_foundation] = []\n",
    "\n",
    "    if moral_foundation not in dict_2_words:\n",
    "        dict_2_words[moral_foundation] = []\n",
    "\n",
    "    if moral_foundation not in same_words:\n",
    "        same_words[moral_foundation] = []\n",
    "\n",
    "    print(f\"Foundation: {moral_foundation}\")\n",
    "\n",
    "    for word in foundation_2:\n",
    "        if word in foundation_1:\n",
    "            same_words[moral_foundation].append(word)\n",
    "        else:\n",
    "            dict_2_words[moral_foundation].append(word)\n",
    "\n",
    "    for word in foundation_1:\n",
    "        if word not in foundation_2:\n",
    "            dict_1_words[moral_foundation].append(word)"
   ]
  },
  {
   "cell_type": "code",
   "execution_count": 8,
   "metadata": {},
   "outputs": [],
   "source": [
    "# Store the comparison in a csv file\n",
    "\n",
    "with open(SAVE_PATH, \"w+\") as save_file:\n",
    "    writer = csv.writer(save_file)\n",
    "\n",
    "    writer.writerow([\"Moral Foundation\", \"List Type\", \"Number of Words\", \"Words ->\"])\n",
    "\n",
    "    for moral_foundation in dict_1_words.keys():\n",
    "        writer.writerow([moral_foundation, \"Same Words\", len(same_words[moral_foundation])] + same_words[moral_foundation])\n",
    "        writer.writerow([moral_foundation, f\"Origninal Unique Words\", len(dict_1_words[moral_foundation])] + dict_1_words[moral_foundation])\n",
    "        writer.writerow([moral_foundation, f\"Recursive Generation Unique Words\", len(dict_2_words[moral_foundation])] + dict_2_words[moral_foundation])\n",
    "\n",
    "        total_words = len(same_words[moral_foundation]) + len(dict_1_words[moral_foundation]) + len(dict_2_words[moral_foundation])\n",
    "        num_unique_words = len(dict_1_words[moral_foundation]) + len(dict_2_words[moral_foundation])\n",
    "        writer.writerow([moral_foundation, \"Stats\", f\"Total Words {total_words}\", f\"Prop Unique Words {num_unique_words / total_words}\", f\"Prop Same Words {len(same_words[moral_foundation]) / total_words}\"])"
   ]
  }
 ],
 "metadata": {
  "kernelspec": {
   "display_name": "presidents",
   "language": "python",
   "name": "python3"
  },
  "language_info": {
   "codemirror_mode": {
    "name": "ipython",
    "version": 3
   },
   "file_extension": ".py",
   "mimetype": "text/x-python",
   "name": "python",
   "nbconvert_exporter": "python",
   "pygments_lexer": "ipython3",
   "version": "3.10.8"
  },
  "orig_nbformat": 4
 },
 "nbformat": 4,
 "nbformat_minor": 2
}
