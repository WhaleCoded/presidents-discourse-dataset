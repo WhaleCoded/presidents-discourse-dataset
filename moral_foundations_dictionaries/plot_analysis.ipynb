{
 "cells": [
  {
   "cell_type": "code",
   "execution_count": 23,
   "metadata": {},
   "outputs": [],
   "source": [
    "import matplotlib.pyplot as plt\n",
    "import seaborn as sns\n",
    "import os \n",
    "import csv\n",
    "import json\n",
    "import pandas as pd\n",
    "import openpyxl"
   ]
  },
  {
   "cell_type": "code",
   "execution_count": 24,
   "metadata": {},
   "outputs": [],
   "source": [
    "def load_analysis_data_for_moral_foundation(path_to_analysis_csvs):\n",
    "    analysis_data_paths = [(os.path.join(path_to_analysis_csvs, f), f.replace(\".xlsx\", \"\")) for f in os.listdir(path_to_analysis_csvs) if f.endswith(\".xlsx\")]\n",
    "\n",
    "    analysis_data = {\"time_period\": [], \"time_period_id\": [], \"dictionary_size\": [], \"num_changed\": [], \"prop_changed\": [], \"moral_foundation\": []}\n",
    "\n",
    "    for data_path, moral_foundation in analysis_data_paths:\n",
    "        # with openpyxl.load_workbook(data_path) as wb:\n",
    "        wb = openpyxl.load_workbook(data_path)\n",
    "        ws = wb.active\n",
    "        reader = ws.iter_rows(values_only=True)\n",
    "\n",
    "        # Get rid of headers\n",
    "        next(reader)\n",
    "        next(reader)\n",
    "        next(reader)\n",
    "        next(reader)\n",
    "        \n",
    "        period_id = 0\n",
    "        for row in reader:\n",
    "            dict_size = int(row[1])\n",
    "            num_changed = dict_size - int(row[2])\n",
    "            time_period = row[0]\n",
    "            time_period = time_period.split(\"-\")\n",
    "            time_period = time_period[1] + \"-\" + time_period[0]\n",
    "            analysis_data[\"time_period\"].append(time_period)\n",
    "            analysis_data[\"time_period_id\"].append(period_id)\n",
    "            analysis_data[\"dictionary_size\"].append(dict_size)\n",
    "            analysis_data[\"num_changed\"].append(num_changed)\n",
    "            analysis_data[\"prop_changed\"].append(num_changed / dict_size)\n",
    "            analysis_data[\"moral_foundation\"].append(moral_foundation)\n",
    "            period_id += 1\n",
    "\n",
    "    return analysis_data"
   ]
  },
  {
   "cell_type": "code",
   "execution_count": 25,
   "metadata": {},
   "outputs": [],
   "source": [
    "DICT_ID = \"no_wiki_continuous_v1\"\n",
    "DATA_PATH = os.path.join(os.path.curdir, \"data\", DICT_ID, \"csv_analysis\")\n",
    "SAVE_PATH = os.path.join(os.path.curdir, \"data\", DICT_ID, \"csv_analysis\", \"prop_changed.jpg\")\n",
    "analysis_data = load_analysis_data_for_moral_foundation(DATA_PATH)\n",
    "df = pd.DataFrame(analysis_data)\n"
   ]
  },
  {
   "cell_type": "code",
   "execution_count": 26,
   "metadata": {},
   "outputs": [],
   "source": [
    "# Plot the data\n",
    "sns.set_style(\"darkgrid\")\n",
    "fig = plt.figure(figsize=(20, 10))\n",
    "ax = fig.add_subplot(111)\n",
    "\n",
    "sns.set_style(\"darkgrid\")\n",
    "sns.set_context(\"paper\")\n",
    "\n",
    "sns.lineplot(x=\"time_period\", y=\"prop_changed\", hue=\"moral_foundation\", data=df, ax=ax,)\n",
    "ax.set_title(\"Proportion of Terms Changed in Each Dictionary Over Time\")\n",
    "ax.set_xlabel(\"Time Period\")\n",
    "ax.set_ylabel(\"Proportion of Terms Changed\")\n",
    "ax.legend(loc=\"upper right\", title=\"Moral Foundations\")\n",
    "\n",
    "plt.savefig(SAVE_PATH, dpi=600)\n",
    "# plt.plot()\n",
    "plt.close()"
   ]
  },
  {
   "cell_type": "code",
   "execution_count": 27,
   "metadata": {},
   "outputs": [],
   "source": [
    "# Make stacked bar chart\n",
    "ORIG_DICT = os.path.join(\n",
    "    os.path.curdir,\n",
    "    \"data\",\n",
    "    DICT_ID, \n",
    "    \"hand_curated\", \n",
    "    \"formatted_hand_curated_dict.json\"\n",
    ")\n",
    "\n",
    "DYNAMIC_DICT_PATHS = os.path.join(os.path.curdir, \"data\", DICT_ID, \"json_dicts\")"
   ]
  },
  {
   "cell_type": "code",
   "execution_count": 28,
   "metadata": {},
   "outputs": [
    {
     "name": "stdout",
     "output_type": "stream",
     "text": [
      "8\n",
      "[(2001, 2020), (1993, 2000), (1973, 1992), (1953, 1972), (1933, 1952), (1913, 1932), (1893, 1912), (1873, 1892)]\n"
     ]
    }
   ],
   "source": [
    "dictionary_time_periods = []\n",
    "\n",
    "start_year = 1873\n",
    "end_year = 2000\n",
    "\n",
    "\n",
    "temp_year = 1873\n",
    "while temp_year < end_year - 1:\n",
    "    dictionary_time_periods.append((temp_year, temp_year + 19))\n",
    "    temp_year += 20\n",
    "dictionary_time_periods = sorted(dictionary_time_periods, reverse=True)\n",
    "\n",
    "dictionary_time_periods[0] = (1993, 2000)\n",
    "dictionary_time_periods = [(2001, 2020)] + dictionary_time_periods\n",
    "\n",
    "print(len(dictionary_time_periods))\n",
    "print(dictionary_time_periods[-10:])"
   ]
  },
  {
   "cell_type": "code",
   "execution_count": 29,
   "metadata": {},
   "outputs": [],
   "source": [
    "words_mapped_to_time_periods = {}\n",
    "\n",
    "with open(ORIG_DICT, \"r\") as f:\n",
    "    orig_dict = json.load(f)\n",
    "\n",
    "    for moral_foundation, words in orig_dict.items():\n",
    "        if moral_foundation not in words_mapped_to_time_periods:\n",
    "            words_mapped_to_time_periods[moral_foundation] = {}\n",
    "        for word in words:\n",
    "            words_mapped_to_time_periods[moral_foundation][word] = \"Hand Curated\"\n",
    "\n",
    "dynamic_dict_paths = [(os.path.join(DYNAMIC_DICT_PATHS, f), f[:9]) for f in os.listdir(DYNAMIC_DICT_PATHS) if f.endswith(\".json\")]\n",
    "dynamic_dict_paths = sorted(dynamic_dict_paths, key=lambda x: x[1], reverse=True)\n",
    "for dynamic_dict_path, time_period  in dynamic_dict_paths:\n",
    "    formatted_time_period = time_period.split(\"-\")\n",
    "    formatted_time_period = formatted_time_period[1] + \"-\" + formatted_time_period[0]\n",
    "    with open(dynamic_dict_path, \"r\") as f:\n",
    "        dynamic_dict = json.load(f)\n",
    "\n",
    "        for moral_foundation, words in dynamic_dict.items():\n",
    "            for word in words:\n",
    "                if word not in words_mapped_to_time_periods[moral_foundation]:\n",
    "                    words_mapped_to_time_periods[moral_foundation][word] = formatted_time_period"
   ]
  },
  {
   "cell_type": "code",
   "execution_count": 30,
   "metadata": {},
   "outputs": [],
   "source": [
    "# Create graph of all dictionaries over time\n",
    "total_counts_by_time_period = {}\n",
    "for time_period in dictionary_time_periods:\n",
    "    str_time_period = str(time_period[1]) + \"-\" + str(time_period[0])\n",
    "    total_counts_by_time_period[str_time_period] = {}\n",
    "    for time_period2 in dictionary_time_periods:\n",
    "        str_time_period2 = str(time_period2[1]) + \"-\" + str(time_period2[0])\n",
    "        total_counts_by_time_period[str_time_period][str_time_period2] = 0\n",
    "    total_counts_by_time_period[str_time_period][\"Hand Curated\"] = 0"
   ]
  },
  {
   "cell_type": "code",
   "execution_count": 31,
   "metadata": {},
   "outputs": [],
   "source": [
    "for dynamic_dict_path, time_period  in dynamic_dict_paths:\n",
    "    formatted_time_period = time_period.split(\"-\")\n",
    "    formatted_time_period = formatted_time_period[1] + \"-\" + formatted_time_period[0]\n",
    "    with open(dynamic_dict_path, \"r\") as f:\n",
    "            \n",
    "        dynamic_dict = json.load(f)\n",
    "\n",
    "        for moral_foundation, words in dynamic_dict.items():\n",
    "            for word in words:\n",
    "                word_origin = words_mapped_to_time_periods[moral_foundation][word]\n",
    "                total_counts_by_time_period[formatted_time_period][word_origin] += 1"
   ]
  },
  {
   "cell_type": "code",
   "execution_count": 32,
   "metadata": {},
   "outputs": [],
   "source": [
    "# Convert to dataframe\n",
    "df_compatible_data = {\"time_period\": [], \"word_origin\": [], \"count\": []}\n",
    "\n",
    "for time_period, word_origins in total_counts_by_time_period.items():\n",
    "    for word_origin, count in word_origins.items():\n",
    "        df_compatible_data[\"time_period\"].append(time_period)\n",
    "        df_compatible_data[\"word_origin\"].append(word_origin)\n",
    "        df_compatible_data[\"count\"].append(count)\n",
    "\n",
    "tot_counts_df = pd.DataFrame(df_compatible_data)"
   ]
  },
  {
   "cell_type": "code",
   "execution_count": 33,
   "metadata": {},
   "outputs": [],
   "source": [
    "# Plot the data\n",
    "sns.set_style(\"darkgrid\")\n",
    "fig = plt.figure(figsize=(20, 10))\n",
    "ax = fig.add_subplot(111)\n",
    "\n",
    "sns.set_style(\"darkgrid\")\n",
    "sns.set_context(\"paper\")\n",
    "hue_order = [\"Hand Curated\", \"2020-2001\", \"2000-1993\", \"1992-1973\", \"1972-1953\", \"1952-1933\", \"1932-1913\", \"1912-1893\", \"1892-1873\"]\n",
    "sns.barplot(x=\"time_period\", y=\"count\", hue=\"word_origin\", hue_order=hue_order, data=tot_counts_df, ax=ax,)\n",
    "ax.set_title(\"Origin of Dynamically Generated Dictionary Terms\")\n",
    "ax.set_xlabel(\"Dynamically Generated Dictionary\")\n",
    "ax.set_ylabel(\"Number of Dictionary Terms\")\n",
    "ax.legend(loc=\"upper right\", title=\"Term Origin\")\n",
    "\n",
    "SAVE_PATH = os.path.join(os.path.curdir, \"data\", DICT_ID, \"csv_analysis\", \"overall_term_origin.jpg\")\n",
    "plt.savefig(SAVE_PATH, dpi=600)\n",
    "# plt.plot()\n",
    "plt.close()"
   ]
  }
 ],
 "metadata": {
  "kernelspec": {
   "display_name": "presidents",
   "language": "python",
   "name": "python3"
  },
  "language_info": {
   "codemirror_mode": {
    "name": "ipython",
    "version": 3
   },
   "file_extension": ".py",
   "mimetype": "text/x-python",
   "name": "python",
   "nbconvert_exporter": "python",
   "pygments_lexer": "ipython3",
   "version": "3.10.8"
  },
  "orig_nbformat": 4,
  "vscode": {
   "interpreter": {
    "hash": "77b3f24db4760b8c61a784a6cf48a467feb1ad85c14ee10af44901428476a873"
   }
  }
 },
 "nbformat": 4,
 "nbformat_minor": 2
}
