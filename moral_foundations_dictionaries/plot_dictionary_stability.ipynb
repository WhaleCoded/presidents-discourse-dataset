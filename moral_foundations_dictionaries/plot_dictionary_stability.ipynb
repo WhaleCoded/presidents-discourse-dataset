{
 "cells": [
  {
   "cell_type": "code",
   "execution_count": 13,
   "metadata": {},
   "outputs": [],
   "source": [
    "import seaborn as sns\n",
    "import matplotlib.pyplot as plt\n",
    "import numpy as np\n",
    "import json\n",
    "import os\n",
    "import pandas as pd\n",
    "import csv"
   ]
  },
  {
   "cell_type": "code",
   "execution_count": 14,
   "metadata": {},
   "outputs": [],
   "source": [
    "DICT_ID_1 = \"no_wiki_continuous_v1\"\n",
    "DICT_ID_2 = \"core_no_wiki_continuous_v1\"\n",
    "DICT_ID_3 = \"control_recursive_dicts\"\n",
    "DICT_1_NAME = \"Pre-Core Tags\"\n",
    "DICT_2_NAME = \"Post-Core Tags\"\n",
    "DICT_3_NAME = \"Naive Model\"\n",
    "NO_CORE_DICT_PATH = os.path.join(os.path.curdir, \"data\", DICT_ID_1, \"dicts_analysis\", \"diff_no_wiki_continuous_v1_to_no_wiki_continuous_v1_for_2001-2020_recursive_dict.json.csv\")\n",
    "CORE_DICT_PATH = os.path.join(os.path.curdir, \"data\", DICT_ID_2, \"dicts_analysis\", \"diff_core_no_wiki_continuous_v1_to_core_no_wiki_continuous_v1_for_2001-2020_recursive_dict.json.csv\")\n",
    "CONTROL_DICT_PATH = os.path.join(os.path.curdir, \"data\", DICT_ID_3, \"dicts_analysis\", \"diff_control_recursive_dicts_to_control_recursive_dicts_for_2001-2020_recursive_dict.json.csv\")"
   ]
  },
  {
   "cell_type": "code",
   "execution_count": 15,
   "metadata": {},
   "outputs": [],
   "source": [
    "PLOT_SAVE_PATH = os.path.join(os.path.curdir, \"data\", DICT_ID_1, \"dicts_analysis\", \"core_vs_no_core_stability.png\")"
   ]
  },
  {
   "cell_type": "code",
   "execution_count": 16,
   "metadata": {},
   "outputs": [
    {
     "name": "stderr",
     "output_type": "stream",
     "text": [
      "/tmp/ipykernel_19030/4099490435.py:10: FutureWarning: The frame.append method is deprecated and will be removed from pandas in a future version. Use pandas.concat instead.\n",
      "  df = df.append(\n",
      "/tmp/ipykernel_19030/4099490435.py:10: FutureWarning: The frame.append method is deprecated and will be removed from pandas in a future version. Use pandas.concat instead.\n",
      "  df = df.append(\n",
      "/tmp/ipykernel_19030/4099490435.py:10: FutureWarning: The frame.append method is deprecated and will be removed from pandas in a future version. Use pandas.concat instead.\n",
      "  df = df.append(\n",
      "/tmp/ipykernel_19030/4099490435.py:10: FutureWarning: The frame.append method is deprecated and will be removed from pandas in a future version. Use pandas.concat instead.\n",
      "  df = df.append(\n",
      "/tmp/ipykernel_19030/4099490435.py:10: FutureWarning: The frame.append method is deprecated and will be removed from pandas in a future version. Use pandas.concat instead.\n",
      "  df = df.append(\n",
      "/tmp/ipykernel_19030/4099490435.py:10: FutureWarning: The frame.append method is deprecated and will be removed from pandas in a future version. Use pandas.concat instead.\n",
      "  df = df.append(\n",
      "/tmp/ipykernel_19030/4099490435.py:23: FutureWarning: The frame.append method is deprecated and will be removed from pandas in a future version. Use pandas.concat instead.\n",
      "  df = df.append(\n",
      "/tmp/ipykernel_19030/4099490435.py:23: FutureWarning: The frame.append method is deprecated and will be removed from pandas in a future version. Use pandas.concat instead.\n",
      "  df = df.append(\n",
      "/tmp/ipykernel_19030/4099490435.py:23: FutureWarning: The frame.append method is deprecated and will be removed from pandas in a future version. Use pandas.concat instead.\n",
      "  df = df.append(\n",
      "/tmp/ipykernel_19030/4099490435.py:23: FutureWarning: The frame.append method is deprecated and will be removed from pandas in a future version. Use pandas.concat instead.\n",
      "  df = df.append(\n",
      "/tmp/ipykernel_19030/4099490435.py:23: FutureWarning: The frame.append method is deprecated and will be removed from pandas in a future version. Use pandas.concat instead.\n",
      "  df = df.append(\n",
      "/tmp/ipykernel_19030/4099490435.py:23: FutureWarning: The frame.append method is deprecated and will be removed from pandas in a future version. Use pandas.concat instead.\n",
      "  df = df.append(\n",
      "/tmp/ipykernel_19030/4099490435.py:36: FutureWarning: The frame.append method is deprecated and will be removed from pandas in a future version. Use pandas.concat instead.\n",
      "  df = df.append(\n",
      "/tmp/ipykernel_19030/4099490435.py:36: FutureWarning: The frame.append method is deprecated and will be removed from pandas in a future version. Use pandas.concat instead.\n",
      "  df = df.append(\n",
      "/tmp/ipykernel_19030/4099490435.py:36: FutureWarning: The frame.append method is deprecated and will be removed from pandas in a future version. Use pandas.concat instead.\n",
      "  df = df.append(\n",
      "/tmp/ipykernel_19030/4099490435.py:36: FutureWarning: The frame.append method is deprecated and will be removed from pandas in a future version. Use pandas.concat instead.\n",
      "  df = df.append(\n",
      "/tmp/ipykernel_19030/4099490435.py:36: FutureWarning: The frame.append method is deprecated and will be removed from pandas in a future version. Use pandas.concat instead.\n",
      "  df = df.append(\n",
      "/tmp/ipykernel_19030/4099490435.py:36: FutureWarning: The frame.append method is deprecated and will be removed from pandas in a future version. Use pandas.concat instead.\n",
      "  df = df.append(\n"
     ]
    }
   ],
   "source": [
    "# make pandas datframe to hold dict name dictionary name and prop same words\n",
    "df = pd.DataFrame(columns=[\"Method\", \"Moral Foundation\", \"Proportion of Same Words\"])\n",
    "\n",
    "# read in the data\n",
    "with open(NO_CORE_DICT_PATH, \"r\") as f:\n",
    "    reader = csv.reader(f)\n",
    "    for row in reader:\n",
    "        if row[1] == \"Stats\":\n",
    "            # add date to df\n",
    "            df = df.append(\n",
    "                {\n",
    "                    \"Method\": DICT_1_NAME,\n",
    "                    \"Moral Foundation\": row[0],\n",
    "                    \"Proportion of Same Words\": float(row[4].replace(\"Prop Same Words \", \"\")),\n",
    "                }, ignore_index=True)\n",
    "            \n",
    "\n",
    "with open(CORE_DICT_PATH, \"r\") as f:\n",
    "    reader = csv.reader(f)\n",
    "    for row in reader:\n",
    "        if row[1] == \"Stats\":\n",
    "            # add date to df\n",
    "            df = df.append(\n",
    "                {\n",
    "                    \"Method\": DICT_2_NAME,\n",
    "                    \"Moral Foundation\": row[0],\n",
    "                    \"Proportion of Same Words\": float(row[4].replace(\"Prop Same Words \", \"\")),\n",
    "                }, ignore_index=True)\n",
    "            \n",
    "\n",
    "with open(CONTROL_DICT_PATH, \"r\") as f:\n",
    "    reader = csv.reader(f)\n",
    "    for row in reader:\n",
    "        if row[1] == \"Stats\":\n",
    "            # add date to df\n",
    "            df = df.append(\n",
    "                {\n",
    "                    \"Method\": DICT_3_NAME,\n",
    "                    \"Moral Foundation\": row[0],\n",
    "                    \"Proportion of Same Words\": float(row[4].replace(\"Prop Same Words \", \"\")),\n",
    "                }, ignore_index=True)"
   ]
  },
  {
   "cell_type": "code",
   "execution_count": null,
   "metadata": {},
   "outputs": [],
   "source": []
  },
  {
   "cell_type": "code",
   "execution_count": 17,
   "metadata": {},
   "outputs": [
    {
     "name": "stdout",
     "output_type": "stream",
     "text": [
      "            Method      Moral Foundation  Proportion of Same Words\n",
      "0    Pre-Core Tags                  Harm                  0.647059\n",
      "1    Pre-Core Tags  Institutional_Purity                  0.524804\n",
      "2    Pre-Core Tags             Authority                  0.449782\n",
      "3    Pre-Core Tags              Fairness                  0.473684\n",
      "4    Pre-Core Tags               Ingroup                  0.602649\n",
      "5    Pre-Core Tags         Sexual_Purity                  0.902439\n",
      "6   Post-Core Tags                  Harm                  0.781818\n",
      "7   Post-Core Tags  Institutional_Purity                  0.691860\n",
      "8   Post-Core Tags             Authority                  0.603865\n",
      "9   Post-Core Tags              Fairness                  0.824176\n",
      "10  Post-Core Tags               Ingroup                  0.702128\n",
      "11  Post-Core Tags         Sexual_Purity                  0.950000\n",
      "12     Naive Model                  Harm                  0.101124\n",
      "13     Naive Model  Institutional_Purity                  0.407229\n",
      "14     Naive Model             Authority                  0.057325\n",
      "15     Naive Model              Fairness                  0.083871\n",
      "16     Naive Model               Ingroup                  0.100000\n",
      "17     Naive Model         Sexual_Purity                  0.098592\n"
     ]
    }
   ],
   "source": [
    "print(df)"
   ]
  },
  {
   "cell_type": "code",
   "execution_count": 19,
   "metadata": {},
   "outputs": [],
   "source": [
    "# Make and save a bar plot\n",
    "\n",
    "# Plot the data\n",
    "sns.set_style(\"darkgrid\")\n",
    "fig = plt.figure(figsize=(20, 10))\n",
    "ax = fig.add_subplot(111)\n",
    "\n",
    "sns.set_style(\"darkgrid\")\n",
    "sns.set_context(\"paper\")\n",
    "\n",
    "hue_order = [DICT_3_NAME, DICT_1_NAME, DICT_2_NAME]\n",
    "sns.barplot(hue=\"Method\", x=\"Moral Foundation\", y=\"Proportion of Same Words\", hue_order=hue_order, data=df, ax=ax, palette=\"viridis\")\n",
    "ax.set_title(\"Proportion of Original Terms After 20 Generations\")\n",
    "ax.set_xlabel(\"Moral Foundation Dictionary\")\n",
    "ax.set_ylabel(\"Proportion of Same Terms\")\n",
    "\n",
    "plt.savefig(PLOT_SAVE_PATH, dpi=600)\n",
    "# plt.plot()\n",
    "plt.close()\n"
   ]
  }
 ],
 "metadata": {
  "kernelspec": {
   "display_name": "presidents",
   "language": "python",
   "name": "python3"
  },
  "language_info": {
   "codemirror_mode": {
    "name": "ipython",
    "version": 3
   },
   "file_extension": ".py",
   "mimetype": "text/x-python",
   "name": "python",
   "nbconvert_exporter": "python",
   "pygments_lexer": "ipython3",
   "version": "3.10.8"
  },
  "orig_nbformat": 4
 },
 "nbformat": 4,
 "nbformat_minor": 2
}
