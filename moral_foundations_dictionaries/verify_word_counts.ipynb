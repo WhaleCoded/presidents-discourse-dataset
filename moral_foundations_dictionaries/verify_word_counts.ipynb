{
 "cells": [
  {
   "cell_type": "code",
   "execution_count": 1,
   "metadata": {},
   "outputs": [],
   "source": [
    "import json\n",
    "\n",
    "from tqdm import tqdm\n",
    "\n",
    "from dataset import CongressDataset"
   ]
  },
  {
   "cell_type": "code",
   "execution_count": 2,
   "metadata": {},
   "outputs": [],
   "source": [
    "start_year = 1873\n",
    "end_year = 2016\n",
    "\n",
    "congress_pairs = [(1873, 1874)]\n",
    "\n",
    "temp_year = 1875\n",
    "while temp_year < end_year:\n",
    "    congress_pairs.append((temp_year, temp_year + 1))\n",
    "    temp_year += 2"
   ]
  },
  {
   "cell_type": "code",
   "execution_count": 3,
   "metadata": {},
   "outputs": [
    {
     "name": "stdout",
     "output_type": "stream",
     "text": [
      "[(1873, 1874), (1875, 1876), (1877, 1878), (1879, 1880), (1881, 1882), (1883, 1884), (1885, 1886), (1887, 1888), (1889, 1890), (1891, 1892)]\n",
      "[(1997, 1998), (1999, 2000), (2001, 2002), (2003, 2004), (2005, 2006), (2007, 2008), (2009, 2010), (2011, 2012), (2013, 2014), (2015, 2016)]\n",
      "72\n",
      "216\n",
      "43.2\n"
     ]
    }
   ],
   "source": [
    "print(congress_pairs[0:10])\n",
    "print(congress_pairs[-10:])\n",
    "\n",
    "print(len(congress_pairs))\n",
    "print(len(congress_pairs) * 3)\n",
    "print((len(congress_pairs) / 5)*3)"
   ]
  },
  {
   "cell_type": "code",
   "execution_count": 4,
   "metadata": {},
   "outputs": [],
   "source": [
    "negative_words = [\"harm\", \"unfair\", \"rebellion\", \"disloyal\", \"impure\"]\n",
    "positive_words = [\"care\", \"concern\", \"fairness\", \"authority\", \"loyalty\", \"purity\"]"
   ]
  },
  {
   "cell_type": "code",
   "execution_count": 5,
   "metadata": {},
   "outputs": [
    {
     "name": "stdout",
     "output_type": "stream",
     "text": [
      "72\n"
     ]
    }
   ],
   "source": [
    "congress_groups = []\n",
    "\n",
    "temp = []\n",
    "for congress_pair in congress_pairs:\n",
    "    temp.append(congress_pair)\n",
    "\n",
    "    if len(temp) == 1:\n",
    "        congress_groups.append(temp)\n",
    "        temp = []\n",
    "\n",
    "if len(temp) > 0:\n",
    "    congress_groups.append(temp)\n",
    "    print(len(temp))\n",
    "\n",
    "print(len(congress_groups))"
   ]
  },
  {
   "cell_type": "code",
   "execution_count": 6,
   "metadata": {},
   "outputs": [],
   "source": [
    "def combine_sentence(data_item):\n",
    "    separated_sentence = data_item[\"sentence\"]\n",
    "    temp = \"\"\n",
    "    for word in separated_sentence:\n",
    "        temp += word + \" \"\n",
    "\n",
    "    data_item[\"data\"] = temp\n",
    "\n",
    "    return data_item"
   ]
  },
  {
   "cell_type": "code",
   "execution_count": 7,
   "metadata": {},
   "outputs": [
    {
     "name": "stderr",
     "output_type": "stream",
     "text": [
      "Congress Groups:   0%|          | 0/72 [00:00<?, ?it/s]"
     ]
    },
    {
     "name": "stdout",
     "output_type": "stream",
     "text": [
      "1874\n",
      "1876\n",
      "1878\n",
      "1880\n",
      "1882\n",
      "1884\n",
      "1886\n",
      "1888\n",
      "1890\n",
      "1892\n",
      "1894\n",
      "1896\n",
      "1898\n",
      "1900\n",
      "1902\n",
      "1904\n",
      "1906\n",
      "1908\n",
      "1910\n",
      "1912\n",
      "1914\n",
      "1916\n",
      "1918\n",
      "1920\n",
      "1922\n",
      "1924\n",
      "1926\n",
      "1928\n",
      "1930\n",
      "1932\n",
      "1934\n",
      "1936\n",
      "1938\n",
      "1940\n",
      "1942\n",
      "1944\n",
      "1946\n",
      "1948\n",
      "1950\n",
      "1952\n",
      "1954\n",
      "1956\n",
      "1958\n",
      "1960\n",
      "1962\n",
      "1964\n",
      "1966\n",
      "1968\n",
      "1970\n",
      "calculating group\n"
     ]
    },
    {
     "name": "stderr",
     "output_type": "stream",
     "text": [
      "Loading data: 171890149it [03:11, 898098.37it/s]\n",
      "Congress Groups:  68%|██████▊   | 49/72 [03:19<01:33,  4.07s/it]"
     ]
    },
    {
     "name": "stdout",
     "output_type": "stream",
     "text": [
      "1972\n",
      "calculating group\n"
     ]
    },
    {
     "name": "stderr",
     "output_type": "stream",
     "text": [
      "Loading data: 171890149it [03:22, 847687.30it/s]\n",
      "Congress Groups:  69%|██████▉   | 50/72 [06:50<03:38,  9.94s/it]"
     ]
    },
    {
     "name": "stdout",
     "output_type": "stream",
     "text": [
      "1974\n",
      "calculating group\n"
     ]
    },
    {
     "name": "stderr",
     "output_type": "stream",
     "text": [
      "Loading data: 171890149it [03:20, 856451.50it/s]\n",
      "Congress Groups:  71%|███████   | 51/72 [10:20<06:11, 17.71s/it]"
     ]
    },
    {
     "name": "stdout",
     "output_type": "stream",
     "text": [
      "1976\n",
      "calculating group\n"
     ]
    },
    {
     "name": "stderr",
     "output_type": "stream",
     "text": [
      "Loading data: 171890149it [03:30, 815777.17it/s]\n",
      "Congress Groups:  72%|███████▏  | 52/72 [13:59<09:26, 28.32s/it]"
     ]
    },
    {
     "name": "stdout",
     "output_type": "stream",
     "text": [
      "1978\n",
      "calculating group\n"
     ]
    },
    {
     "name": "stderr",
     "output_type": "stream",
     "text": [
      "Loading data: 171890149it [03:29, 822348.44it/s]\n",
      "Congress Groups:  74%|███████▎  | 53/72 [17:37<13:10, 41.58s/it]"
     ]
    },
    {
     "name": "stdout",
     "output_type": "stream",
     "text": [
      "1980\n",
      "calculating group\n"
     ]
    },
    {
     "name": "stderr",
     "output_type": "stream",
     "text": [
      "Loading data: 171890149it [03:32, 807502.35it/s]\n",
      "Congress Groups:  75%|███████▌  | 54/72 [21:18<17:22, 57.91s/it]"
     ]
    },
    {
     "name": "stdout",
     "output_type": "stream",
     "text": [
      "1982\n",
      "calculating group\n"
     ]
    },
    {
     "name": "stderr",
     "output_type": "stream",
     "text": [
      "Loading data: 171890149it [03:31, 812078.64it/s]\n",
      "Congress Groups:  76%|███████▋  | 55/72 [24:58<21:39, 76.46s/it]"
     ]
    },
    {
     "name": "stdout",
     "output_type": "stream",
     "text": [
      "1984\n",
      "calculating group\n"
     ]
    },
    {
     "name": "stderr",
     "output_type": "stream",
     "text": [
      "Loading data: 171890149it [03:26, 832192.66it/s]\n",
      "Congress Groups:  78%|███████▊  | 56/72 [28:32<25:34, 95.88s/it]"
     ]
    },
    {
     "name": "stdout",
     "output_type": "stream",
     "text": [
      "1986\n",
      "calculating group\n"
     ]
    },
    {
     "name": "stderr",
     "output_type": "stream",
     "text": [
      "Loading data: 171890149it [03:31, 811715.14it/s]\n",
      "Congress Groups:  79%|███████▉  | 57/72 [32:12<29:10, 116.73s/it]"
     ]
    },
    {
     "name": "stdout",
     "output_type": "stream",
     "text": [
      "1988\n",
      "calculating group\n"
     ]
    },
    {
     "name": "stderr",
     "output_type": "stream",
     "text": [
      "Loading data: 171890149it [03:37, 789449.88it/s]\n",
      "Congress Groups:  81%|████████  | 58/72 [35:58<32:09, 137.84s/it]"
     ]
    },
    {
     "name": "stdout",
     "output_type": "stream",
     "text": [
      "1990\n",
      "calculating group\n"
     ]
    },
    {
     "name": "stderr",
     "output_type": "stream",
     "text": [
      "Loading data: 171890149it [03:29, 820367.99it/s]\n",
      "Congress Groups:  82%|████████▏ | 59/72 [39:36<33:36, 155.12s/it]"
     ]
    },
    {
     "name": "stdout",
     "output_type": "stream",
     "text": [
      "1992\n",
      "calculating group\n"
     ]
    },
    {
     "name": "stderr",
     "output_type": "stream",
     "text": [
      "Loading data: 171890149it [03:29, 821048.55it/s]\n",
      "Congress Groups:  83%|████████▎ | 60/72 [43:14<33:58, 169.90s/it]"
     ]
    },
    {
     "name": "stdout",
     "output_type": "stream",
     "text": [
      "1994\n",
      "calculating group\n"
     ]
    },
    {
     "name": "stderr",
     "output_type": "stream",
     "text": [
      "Loading data: 171890149it [03:30, 814782.09it/s]\n",
      "Congress Groups:  85%|████████▍ | 61/72 [46:53<33:25, 182.35s/it]"
     ]
    },
    {
     "name": "stdout",
     "output_type": "stream",
     "text": [
      "1996\n",
      "calculating group\n"
     ]
    },
    {
     "name": "stderr",
     "output_type": "stream",
     "text": [
      "Loading data: 171890149it [03:32, 810284.84it/s]\n",
      "Congress Groups:  86%|████████▌ | 62/72 [50:35<32:07, 192.71s/it]"
     ]
    },
    {
     "name": "stdout",
     "output_type": "stream",
     "text": [
      "1998\n",
      "calculating group\n"
     ]
    },
    {
     "name": "stderr",
     "output_type": "stream",
     "text": [
      "Loading data: 171890149it [03:34, 801954.28it/s]\n",
      "Congress Groups:  88%|████████▊ | 63/72 [54:17<30:07, 200.86s/it]"
     ]
    },
    {
     "name": "stdout",
     "output_type": "stream",
     "text": [
      "2000\n",
      "calculating group\n"
     ]
    },
    {
     "name": "stderr",
     "output_type": "stream",
     "text": [
      "Loading data: 171890149it [03:25, 835461.03it/s]\n",
      "Congress Groups:  89%|████████▉ | 64/72 [57:51<27:15, 204.50s/it]"
     ]
    },
    {
     "name": "stdout",
     "output_type": "stream",
     "text": [
      "2002\n",
      "calculating group\n"
     ]
    },
    {
     "name": "stderr",
     "output_type": "stream",
     "text": [
      "Loading data: 171890149it [03:26, 834215.31it/s]\n",
      "Congress Groups:  90%|█████████ | 65/72 [1:01:24<24:08, 206.99s/it]"
     ]
    },
    {
     "name": "stdout",
     "output_type": "stream",
     "text": [
      "2004\n",
      "calculating group\n"
     ]
    },
    {
     "name": "stderr",
     "output_type": "stream",
     "text": [
      "Loading data: 171890149it [03:23, 845322.35it/s]\n",
      "Congress Groups:  92%|█████████▏| 66/72 [1:04:55<20:48, 208.13s/it]"
     ]
    },
    {
     "name": "stdout",
     "output_type": "stream",
     "text": [
      "2006\n",
      "calculating group\n"
     ]
    },
    {
     "name": "stderr",
     "output_type": "stream",
     "text": [
      "Loading data: 171890149it [03:31, 813678.39it/s]\n",
      "Congress Groups:  93%|█████████▎| 67/72 [1:08:33<17:36, 211.21s/it]"
     ]
    },
    {
     "name": "stdout",
     "output_type": "stream",
     "text": [
      "2008\n",
      "calculating group\n"
     ]
    },
    {
     "name": "stderr",
     "output_type": "stream",
     "text": [
      "Loading data: 171890149it [03:27, 829062.13it/s]\n",
      "Congress Groups:  94%|█████████▍| 68/72 [1:12:09<14:09, 212.43s/it]"
     ]
    },
    {
     "name": "stdout",
     "output_type": "stream",
     "text": [
      "2010\n",
      "calculating group\n"
     ]
    },
    {
     "name": "stderr",
     "output_type": "stream",
     "text": [
      "Loading data: 171890149it [03:26, 831755.12it/s]\n",
      "Congress Groups:  96%|█████████▌| 69/72 [1:15:42<10:37, 212.57s/it]"
     ]
    },
    {
     "name": "stdout",
     "output_type": "stream",
     "text": [
      "2012\n",
      "calculating group\n"
     ]
    },
    {
     "name": "stderr",
     "output_type": "stream",
     "text": [
      "Loading data: 171890149it [03:24, 841969.41it/s]\n",
      "Congress Groups:  97%|█████████▋| 70/72 [1:19:12<07:03, 211.82s/it]"
     ]
    },
    {
     "name": "stdout",
     "output_type": "stream",
     "text": [
      "2014\n",
      "calculating group\n"
     ]
    },
    {
     "name": "stderr",
     "output_type": "stream",
     "text": [
      "Loading data: 171890149it [03:21, 854369.70it/s]\n",
      "Congress Groups:  99%|█████████▊| 71/72 [1:22:38<03:30, 210.21s/it]"
     ]
    },
    {
     "name": "stdout",
     "output_type": "stream",
     "text": [
      "2016\n",
      "calculating group\n"
     ]
    },
    {
     "name": "stderr",
     "output_type": "stream",
     "text": [
      "Loading data: 171890149it [03:16, 875601.92it/s]\n",
      "Congress Groups: 100%|██████████| 72/72 [1:25:59<00:00, 71.66s/it] \n"
     ]
    }
   ],
   "source": [
    "positive_congress_counts = {}\n",
    "negative_congress_counts = {}\n",
    "for congress_group in tqdm(congress_groups, desc=\"Congress Groups\"):\n",
    "    start_year = congress_group[0][0]\n",
    "    end_year = congress_group[-1][1]\n",
    "    print(end_year)\n",
    "    if end_year > 1968:\n",
    "        print(\"calculating group\")\n",
    "        dataset = CongressDataset(date_range=(start_year, end_year))\n",
    "\n",
    "        for date_range in congress_group:\n",
    "            # specific_congress = dataset.where(lambda x: x[\"date\"] >= date_range[0] and x[\"date\"] <= date_range[1], remove_in_place=False)\n",
    "            specific_congress = dataset\n",
    "            specific_congress.map(combine_sentence)\n",
    "\n",
    "            positive_counts = [0 for _ in positive_words]\n",
    "            negative_counts = [0 for _ in negative_words]\n",
    "\n",
    "            for data in specific_congress:\n",
    "                for i in range(len(positive_words)):\n",
    "                    if positive_words[i] in data[\"sentence\"]:\n",
    "                        positive_counts[i] += 1\n",
    "\n",
    "                for i in range(len(negative_words)):\n",
    "                    if negative_words[i] in data[\"sentence\"]:\n",
    "                        negative_counts[i] += 1\n",
    "            positive_congress_counts[f\"{date_range[0]}-{date_range[1]}\"] = positive_counts\n",
    "            negative_congress_counts[f\"{date_range[0]}-{date_range[1]}\"] = negative_counts\n",
    "\n",
    "            with open(\"data/positive_congress_counts.json\", \"w+\") as f:\n",
    "                json.dump(positive_congress_counts, f)\n",
    "\n",
    "            with open(\"data/negative_congress_counts.json\", \"w+\") as f:\n",
    "                json.dump(negative_congress_counts, f)\n",
    "\n",
    "            del specific_congress\n",
    "\n",
    "    "
   ]
  },
  {
   "cell_type": "code",
   "execution_count": 8,
   "metadata": {},
   "outputs": [
    {
     "name": "stdout",
     "output_type": "stream",
     "text": [
      "positive-1973-1974: [14157, 13232, 1950, 20009, 560, 89]\n",
      "positive-1977-1978: [12731, 13735, 1718, 16778, 276, 97]\n",
      "positive-1979-1980: [12589, 12646, 1508, 17233, 338, 67]\n",
      "positive-1981-1982: [10591, 11273, 1666, 12702, 359, 67]\n",
      "positive-1983-1984: [13578, 10900, 2120, 12440, 397, 73]\n",
      "positive-1987-1988: [24181, 10058, 2774, 11656, 399, 67]\n",
      "positive-1989-1990: [29355, 9362, 2817, 10215, 388, 76]\n",
      "positive-1991-1992: [30946, 8591, 3520, 11203, 351, 55]\n",
      "positive-1993-1994: [40489, 7712, 2680, 9330, 367, 56]\n",
      "positive-1997-1998: [28482, 6624, 2643, 9481, 347, 54]\n",
      "positive-2001-2002: [26325, 5458, 2049, 9553, 369, 46]\n",
      "positive-2003-2004: [31104, 5179, 2485, 7539, 359, 45]\n",
      "positive-2005-2006: [27463, 4638, 1966, 7145, 388, 38]\n",
      "positive-2007-2008: [34129, 4582, 1875, 7450, 465, 26]\n",
      "positive-2009-2010: [46496, 3473, 1501, 5474, 293, 27]\n",
      "positive-2011-2012: [32029, 2873, 1682, 5522, 258, 29]\n",
      "positive-2013-2014: [30241, 2483, 1884, 5068, 200, 16]\n",
      "positive-2015-2016: [17369, 2164, 881, 5130, 178, 22]\n"
     ]
    }
   ],
   "source": [
    "OK_CUTOFF = 100\n",
    "\n",
    "for date_range, counts in positive_congress_counts.items():\n",
    "    for count in counts:\n",
    "        if count < OK_CUTOFF:\n",
    "            print(f\"positive-{date_range}: {counts}\")\n",
    "            break"
   ]
  },
  {
   "cell_type": "code",
   "execution_count": 9,
   "metadata": {},
   "outputs": [
    {
     "name": "stdout",
     "output_type": "stream",
     "text": [
      "negative-1969-1970: [963, 2103, 254, 49, 19]\n",
      "negative-1971-1972: [938, 2030, 152, 45, 18]\n",
      "negative-1973-1974: [1097, 2382, 102, 19, 13]\n",
      "negative-1975-1976: [1023, 1968, 83, 13, 10]\n",
      "negative-1977-1978: [1134, 3158, 111, 8, 12]\n",
      "negative-1979-1980: [1089, 2449, 134, 17, 8]\n",
      "negative-1981-1982: [1087, 2562, 129, 14, 12]\n",
      "negative-1983-1984: [1050, 3057, 135, 13, 3]\n",
      "negative-1985-1986: [1248, 4068, 141, 23, 3]\n",
      "negative-1987-1988: [1132, 4077, 121, 23, 7]\n",
      "negative-1989-1990: [1116, 2885, 91, 8, 8]\n",
      "negative-1991-1992: [1191, 3216, 183, 12, 3]\n",
      "negative-1993-1994: [1284, 2750, 91, 7, 3]\n",
      "negative-1995-1996: [1985, 2841, 81, 8, 5]\n",
      "negative-1997-1998: [1652, 2578, 48, 4, 2]\n",
      "negative-1999-2000: [1918, 2931, 53, 7, 0]\n",
      "negative-2001-2002: [1710, 2204, 34, 7, 2]\n",
      "negative-2003-2004: [1998, 2342, 45, 10, 1]\n",
      "negative-2005-2006: [2137, 1736, 95, 14, 8]\n",
      "negative-2007-2008: [1906, 1590, 54, 9, 4]\n",
      "negative-2009-2010: [1410, 1239, 28, 1, 0]\n",
      "negative-2011-2012: [1701, 1310, 47, 3, 5]\n",
      "negative-2013-2014: [1571, 973, 35, 5, 1]\n",
      "negative-2015-2016: [1502, 719, 31, 1, 1]\n"
     ]
    }
   ],
   "source": [
    "for date_range, counts in negative_congress_counts.items():\n",
    "    for count in counts:\n",
    "        if count < OK_CUTOFF:\n",
    "            print(f\"negative-{date_range}: {counts}\")\n",
    "            break"
   ]
  }
 ],
 "metadata": {
  "kernelspec": {
   "display_name": "presidents",
   "language": "python",
   "name": "python3"
  },
  "language_info": {
   "codemirror_mode": {
    "name": "ipython",
    "version": 3
   },
   "file_extension": ".py",
   "mimetype": "text/x-python",
   "name": "python",
   "nbconvert_exporter": "python",
   "pygments_lexer": "ipython3",
   "version": "3.10.8"
  },
  "orig_nbformat": 4,
  "vscode": {
   "interpreter": {
    "hash": "77b3f24db4760b8c61a784a6cf48a467feb1ad85c14ee10af44901428476a873"
   }
  }
 },
 "nbformat": 4,
 "nbformat_minor": 2
}
